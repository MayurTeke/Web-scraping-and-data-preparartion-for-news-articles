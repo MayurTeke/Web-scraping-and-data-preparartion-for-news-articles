{
 "cells": [
  {
   "cell_type": "markdown",
   "id": "97a54d2e",
   "metadata": {},
   "source": [
    "# Project - Web Scrapping & Data Preparation of News Articles Using KMeans Clustering"
   ]
  },
  {
   "cell_type": "markdown",
   "id": "4c08002e",
   "metadata": {},
   "source": [
    "# Scraped data from Opindia News Website"
   ]
  },
  {
   "cell_type": "code",
   "execution_count": 1,
   "id": "51c92ab4",
   "metadata": {},
   "outputs": [],
   "source": [
    "import requests\n",
    "from bs4 import BeautifulSoup\n",
    "url = \"https://www.opindia.com/latest-news/\"\n",
    "data = requests.get(url)"
   ]
  },
  {
   "cell_type": "code",
   "execution_count": 2,
   "id": "cd61284f",
   "metadata": {},
   "outputs": [
    {
     "data": {
      "text/plain": [
       "<Response [200]>"
      ]
     },
     "execution_count": 2,
     "metadata": {},
     "output_type": "execute_result"
    }
   ],
   "source": [
    "data"
   ]
  },
  {
   "cell_type": "code",
   "execution_count": 3,
   "id": "91a2441e",
   "metadata": {},
   "outputs": [],
   "source": [
    "soup = BeautifulSoup(data.content,\"html.parser\")"
   ]
  },
  {
   "cell_type": "markdown",
   "id": "0b9c5efe",
   "metadata": {},
   "source": [
    "# Created function for fetching article with URL"
   ]
  },
  {
   "cell_type": "code",
   "execution_count": 4,
   "id": "43ce1250",
   "metadata": {},
   "outputs": [],
   "source": [
    "def fetch_article(url):\n",
    "    data = requests.get(url)\n",
    "    soup = BeautifulSoup(data.content,\"html.parser\")\n",
    "    articles = []\n",
    "    for i in soup.find_all(\"h3\",class_ = [\"entry-title td-module-title\"]):\n",
    "        articles.append(i.find('a')['title'])     \n",
    "    return articles"
   ]
  },
  {
   "cell_type": "markdown",
   "id": "dc14e7ad",
   "metadata": {},
   "source": [
    "# Created URL list"
   ]
  },
  {
   "cell_type": "code",
   "execution_count": 5,
   "id": "3bb0aa17",
   "metadata": {},
   "outputs": [],
   "source": [
    "urllist = []\n",
    "for i in range(2,21,1):\n",
    "    url = \"https://www.opindia.com/latest-news/page/\" + str(i) + \"/\"\n",
    "    urllist.append(url)"
   ]
  },
  {
   "cell_type": "markdown",
   "id": "40aa45a1",
   "metadata": {},
   "source": [
    "# By fetch articles function fetched the data"
   ]
  },
  {
   "cell_type": "code",
   "execution_count": 6,
   "id": "3546bc2b",
   "metadata": {},
   "outputs": [],
   "source": [
    "all_articles = []\n",
    "for i in urllist:\n",
    "    all_articles.extend(fetch_article(i))"
   ]
  },
  {
   "cell_type": "code",
   "execution_count": 7,
   "id": "4e318c85",
   "metadata": {},
   "outputs": [],
   "source": [
    "#all_articles"
   ]
  },
  {
   "cell_type": "markdown",
   "id": "70f88db4",
   "metadata": {},
   "source": [
    "# Tokenization and Stemming"
   ]
  },
  {
   "cell_type": "code",
   "execution_count": 8,
   "id": "d07bf910",
   "metadata": {},
   "outputs": [],
   "source": [
    "p_art =[]\n",
    "for i in all_articles:\n",
    "    q = i.upper()\n",
    "    import re\n",
    "    q = re.sub(\"[^A-Z0-9 ]\",\"\",q)\n",
    "    from nltk.stem import PorterStemmer\n",
    "    tk_q = q.split(\" \")\n",
    "    sent = \"\"\n",
    "    for j in tk_q:\n",
    "        ps = PorterStemmer()\n",
    "        sent = sent + \" \" + ps.stem(j).upper()\n",
    "    p_art.append(sent)"
   ]
  },
  {
   "cell_type": "markdown",
   "id": "57ae01ac",
   "metadata": {},
   "source": [
    "# Create a TF-IDF Vectorizer"
   ]
  },
  {
   "cell_type": "code",
   "execution_count": 9,
   "id": "79d3f3dc",
   "metadata": {},
   "outputs": [],
   "source": [
    "from sklearn.feature_extraction.text import TfidfVectorizer\n",
    "tf = TfidfVectorizer()\n",
    "A = tf.fit_transform(p_art).toarray()"
   ]
  },
  {
   "cell_type": "code",
   "execution_count": 10,
   "id": "30d5dcd3",
   "metadata": {},
   "outputs": [
    {
     "data": {
      "text/plain": [
       "array([[0., 0., 0., ..., 0., 0., 0.],\n",
       "       [0., 0., 0., ..., 0., 0., 0.],\n",
       "       [0., 0., 0., ..., 0., 0., 0.],\n",
       "       ...,\n",
       "       [0., 0., 0., ..., 0., 0., 0.],\n",
       "       [0., 0., 0., ..., 0., 0., 0.],\n",
       "       [0., 0., 0., ..., 0., 0., 0.]])"
      ]
     },
     "execution_count": 10,
     "metadata": {},
     "output_type": "execute_result"
    }
   ],
   "source": [
    "A"
   ]
  },
  {
   "cell_type": "markdown",
   "id": "d1946315",
   "metadata": {},
   "source": [
    "# K-Means Clustering"
   ]
  },
  {
   "cell_type": "code",
   "execution_count": 11,
   "id": "595e887d",
   "metadata": {},
   "outputs": [],
   "source": [
    "from sklearn.cluster import KMeans\n",
    "km = KMeans(n_clusters=5)\n",
    "cl_res = km.fit(A)"
   ]
  },
  {
   "cell_type": "markdown",
   "id": "87379721",
   "metadata": {},
   "source": [
    "# Created DataFrame with cluster_labels and articles"
   ]
  },
  {
   "cell_type": "code",
   "execution_count": 12,
   "id": "883eae52",
   "metadata": {},
   "outputs": [],
   "source": [
    "import pandas as pd"
   ]
  },
  {
   "cell_type": "code",
   "execution_count": 13,
   "id": "b1f59628",
   "metadata": {},
   "outputs": [],
   "source": [
    "Q = pd.DataFrame(p_art,columns=[\"Article\"])\n",
    "Q['Cluster']=cl_res.labels_"
   ]
  },
  {
   "cell_type": "code",
   "execution_count": 14,
   "id": "ef19253d",
   "metadata": {},
   "outputs": [
    {
     "data": {
      "text/html": [
       "<div>\n",
       "<style scoped>\n",
       "    .dataframe tbody tr th:only-of-type {\n",
       "        vertical-align: middle;\n",
       "    }\n",
       "\n",
       "    .dataframe tbody tr th {\n",
       "        vertical-align: top;\n",
       "    }\n",
       "\n",
       "    .dataframe thead th {\n",
       "        text-align: right;\n",
       "    }\n",
       "</style>\n",
       "<table border=\"1\" class=\"dataframe\">\n",
       "  <thead>\n",
       "    <tr style=\"text-align: right;\">\n",
       "      <th></th>\n",
       "      <th>Article</th>\n",
       "      <th>Cluster</th>\n",
       "    </tr>\n",
       "  </thead>\n",
       "  <tbody>\n",
       "    <tr>\n",
       "      <th>0</th>\n",
       "      <td>AS KARNATAKA RELEAS FINAL COPI OF REVIS HISTO...</td>\n",
       "      <td>3</td>\n",
       "    </tr>\n",
       "    <tr>\n",
       "      <th>1</th>\n",
       "      <td>DONT CANCEL PROJECT BECAUS OF CORRUPT ALLEG B...</td>\n",
       "      <td>0</td>\n",
       "    </tr>\n",
       "    <tr>\n",
       "      <th>2</th>\n",
       "      <td>MADRASA ASSAMES HISTORI AND RAHUL GANDHI HERE...</td>\n",
       "      <td>3</td>\n",
       "    </tr>\n",
       "    <tr>\n",
       "      <th>3</th>\n",
       "      <td>WATER CRISI IN MAHARASHTRA AURANGABAD SUPPLI ...</td>\n",
       "      <td>0</td>\n",
       "    </tr>\n",
       "    <tr>\n",
       "      <th>4</th>\n",
       "      <td>ASSAM BULLDOZ IN ACTION 5 ILLEG HOUS OF RIOTE...</td>\n",
       "      <td>3</td>\n",
       "    </tr>\n",
       "  </tbody>\n",
       "</table>\n",
       "</div>"
      ],
      "text/plain": [
       "                                             Article  Cluster\n",
       "0   AS KARNATAKA RELEAS FINAL COPI OF REVIS HISTO...        3\n",
       "1   DONT CANCEL PROJECT BECAUS OF CORRUPT ALLEG B...        0\n",
       "2   MADRASA ASSAMES HISTORI AND RAHUL GANDHI HERE...        3\n",
       "3   WATER CRISI IN MAHARASHTRA AURANGABAD SUPPLI ...        0\n",
       "4   ASSAM BULLDOZ IN ACTION 5 ILLEG HOUS OF RIOTE...        3"
      ]
     },
     "execution_count": 14,
     "metadata": {},
     "output_type": "execute_result"
    }
   ],
   "source": [
    "Q.head()"
   ]
  },
  {
   "cell_type": "markdown",
   "id": "a5092c2f",
   "metadata": {},
   "source": [
    "# Create a Cluster names"
   ]
  },
  {
   "cell_type": "code",
   "execution_count": 15,
   "id": "29483476",
   "metadata": {},
   "outputs": [],
   "source": [
    "E = {1 : \"politics\",\n",
    "2 : \"religion\",\n",
    "3 : \"sports\",\n",
    "4 : \"entertainment\",\n",
    "0 : \"geopolitics\"}"
   ]
  },
  {
   "cell_type": "code",
   "execution_count": 16,
   "id": "be57b53e",
   "metadata": {},
   "outputs": [],
   "source": [
    "R = []\n",
    "for i in Q.Cluster:\n",
    "    R.append(E[i])\n",
    "\n",
    "Q['category'] = R"
   ]
  },
  {
   "cell_type": "code",
   "execution_count": 17,
   "id": "c9ea0902",
   "metadata": {},
   "outputs": [
    {
     "data": {
      "text/html": [
       "<div>\n",
       "<style scoped>\n",
       "    .dataframe tbody tr th:only-of-type {\n",
       "        vertical-align: middle;\n",
       "    }\n",
       "\n",
       "    .dataframe tbody tr th {\n",
       "        vertical-align: top;\n",
       "    }\n",
       "\n",
       "    .dataframe thead th {\n",
       "        text-align: right;\n",
       "    }\n",
       "</style>\n",
       "<table border=\"1\" class=\"dataframe\">\n",
       "  <thead>\n",
       "    <tr style=\"text-align: right;\">\n",
       "      <th></th>\n",
       "      <th>Article</th>\n",
       "      <th>Cluster</th>\n",
       "      <th>category</th>\n",
       "    </tr>\n",
       "  </thead>\n",
       "  <tbody>\n",
       "    <tr>\n",
       "      <th>0</th>\n",
       "      <td>AS KARNATAKA RELEAS FINAL COPI OF REVIS HISTO...</td>\n",
       "      <td>3</td>\n",
       "      <td>sports</td>\n",
       "    </tr>\n",
       "    <tr>\n",
       "      <th>1</th>\n",
       "      <td>DONT CANCEL PROJECT BECAUS OF CORRUPT ALLEG B...</td>\n",
       "      <td>0</td>\n",
       "      <td>geopolitics</td>\n",
       "    </tr>\n",
       "    <tr>\n",
       "      <th>2</th>\n",
       "      <td>MADRASA ASSAMES HISTORI AND RAHUL GANDHI HERE...</td>\n",
       "      <td>3</td>\n",
       "      <td>sports</td>\n",
       "    </tr>\n",
       "    <tr>\n",
       "      <th>3</th>\n",
       "      <td>WATER CRISI IN MAHARASHTRA AURANGABAD SUPPLI ...</td>\n",
       "      <td>0</td>\n",
       "      <td>geopolitics</td>\n",
       "    </tr>\n",
       "    <tr>\n",
       "      <th>4</th>\n",
       "      <td>ASSAM BULLDOZ IN ACTION 5 ILLEG HOUS OF RIOTE...</td>\n",
       "      <td>3</td>\n",
       "      <td>sports</td>\n",
       "    </tr>\n",
       "    <tr>\n",
       "      <th>...</th>\n",
       "      <td>...</td>\n",
       "      <td>...</td>\n",
       "      <td>...</td>\n",
       "    </tr>\n",
       "    <tr>\n",
       "      <th>1971</th>\n",
       "      <td>INDIA RAIS SECUR CONCERN PAKISTAN MISUS THE K...</td>\n",
       "      <td>3</td>\n",
       "      <td>sports</td>\n",
       "    </tr>\n",
       "    <tr>\n",
       "      <th>1972</th>\n",
       "      <td>KID MAY THROW STONE WHILE PLAY JAMA MASJID CO...</td>\n",
       "      <td>3</td>\n",
       "      <td>sports</td>\n",
       "    </tr>\n",
       "    <tr>\n",
       "      <th>1973</th>\n",
       "      <td>ASSAM COURT IN KOKRAJHAR REJECT GUJARAT MLA J...</td>\n",
       "      <td>3</td>\n",
       "      <td>sports</td>\n",
       "    </tr>\n",
       "    <tr>\n",
       "      <th>1974</th>\n",
       "      <td>TESLA CHIEF ELON MUSK SECUR 465 BILLION FUND ...</td>\n",
       "      <td>3</td>\n",
       "      <td>sports</td>\n",
       "    </tr>\n",
       "    <tr>\n",
       "      <th>1975</th>\n",
       "      <td>WHAT DOE EVERI SINNER HA A FUTUR MEAN HOW OSC...</td>\n",
       "      <td>3</td>\n",
       "      <td>sports</td>\n",
       "    </tr>\n",
       "  </tbody>\n",
       "</table>\n",
       "<p>1976 rows × 3 columns</p>\n",
       "</div>"
      ],
      "text/plain": [
       "                                                Article  Cluster     category\n",
       "0      AS KARNATAKA RELEAS FINAL COPI OF REVIS HISTO...        3       sports\n",
       "1      DONT CANCEL PROJECT BECAUS OF CORRUPT ALLEG B...        0  geopolitics\n",
       "2      MADRASA ASSAMES HISTORI AND RAHUL GANDHI HERE...        3       sports\n",
       "3      WATER CRISI IN MAHARASHTRA AURANGABAD SUPPLI ...        0  geopolitics\n",
       "4      ASSAM BULLDOZ IN ACTION 5 ILLEG HOUS OF RIOTE...        3       sports\n",
       "...                                                 ...      ...          ...\n",
       "1971   INDIA RAIS SECUR CONCERN PAKISTAN MISUS THE K...        3       sports\n",
       "1972   KID MAY THROW STONE WHILE PLAY JAMA MASJID CO...        3       sports\n",
       "1973   ASSAM COURT IN KOKRAJHAR REJECT GUJARAT MLA J...        3       sports\n",
       "1974   TESLA CHIEF ELON MUSK SECUR 465 BILLION FUND ...        3       sports\n",
       "1975   WHAT DOE EVERI SINNER HA A FUTUR MEAN HOW OSC...        3       sports\n",
       "\n",
       "[1976 rows x 3 columns]"
      ]
     },
     "execution_count": 17,
     "metadata": {},
     "output_type": "execute_result"
    }
   ],
   "source": [
    "Q"
   ]
  },
  {
   "cell_type": "code",
   "execution_count": null,
   "id": "1d94ef62",
   "metadata": {},
   "outputs": [],
   "source": []
  }
 ],
 "metadata": {
  "kernelspec": {
   "display_name": "Python 3 (ipykernel)",
   "language": "python",
   "name": "python3"
  },
  "language_info": {
   "codemirror_mode": {
    "name": "ipython",
    "version": 3
   },
   "file_extension": ".py",
   "mimetype": "text/x-python",
   "name": "python",
   "nbconvert_exporter": "python",
   "pygments_lexer": "ipython3",
   "version": "3.8.13"
  }
 },
 "nbformat": 4,
 "nbformat_minor": 5
}
